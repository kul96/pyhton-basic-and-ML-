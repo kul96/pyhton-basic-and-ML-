{
 "cells": [
  {
   "cell_type": "markdown",
   "metadata": {},
   "source": [
    "#  detect cars from video or image"
   ]
  },
  {
   "cell_type": "code",
   "execution_count": 1,
   "metadata": {},
   "outputs": [],
   "source": [
    "import cv2\n",
    "import time"
   ]
  },
  {
   "cell_type": "code",
   "execution_count": 2,
   "metadata": {},
   "outputs": [],
   "source": [
    "video = cv2.VideoCapture('a.mp4')\n",
    "check, frame = video.read()\n",
    "\n",
    "# take frame from video \n",
    "time.sleep(3)\n",
    "cv2.imshow('a',frame)\n",
    "cv2.waitKey(0)\n",
    "# cv2.destroyAllWindows()\n",
    "\n",
    "#convert into gray scale\n",
    "gray = cv2.cvtColor(frame,cv2.COLOR_BGR2GRAY)\n",
    "cv2.imshow('a',gray)\n",
    "cv2.waitKey(0)\n",
    "cv2.destroyAllWindows()\n",
    "\n",
    "\n",
    "# detect car \n",
    "#   1. create cascade classifier object\n",
    "car_cascade = cv2.CascadeClassifier('cars.xml')"
   ]
  },
  {
   "cell_type": "code",
   "execution_count": 3,
   "metadata": {},
   "outputs": [
    {
     "name": "stdout",
     "output_type": "stream",
     "text": [
      "<class 'numpy.ndarray'>\n",
      "[[326  48  49  49]\n",
      " [385   8  49  49]\n",
      " [527  84  55  55]\n",
      " [ 40 145  90  90]]\n"
     ]
    }
   ],
   "source": [
    "cars = car_cascade.detectMultiScale(gray,1.05,5)\n",
    "\n",
    "print(type(cars))\n",
    "print(cars)"
   ]
  },
  {
   "cell_type": "code",
   "execution_count": 4,
   "metadata": {},
   "outputs": [],
   "source": [
    "# draw reactangle on cars\n",
    "for x,y,w,h in cars:\n",
    "    img = cv2.rectangle(frame, (x,y),(x+w,y+h),(255,0,0),2 )\n",
    "\n",
    "\n",
    "cv2.imshow(\"a\",img)\n",
    "cv2.waitKey(0) \n",
    "cv2.destroyAllWindows()\n",
    "                        "
   ]
  },
  {
   "cell_type": "markdown",
   "metadata": {},
   "source": [
    "## take full video to detect crs"
   ]
  },
  {
   "cell_type": "code",
   "execution_count": 5,
   "metadata": {},
   "outputs": [],
   "source": [
    "## take full video to detect crs\n",
    "video = cv2.VideoCapture('video.avi')\n",
    "car_cascade = cv2.CascadeClassifier('cars.xml')\n",
    "\n",
    "while True:\n",
    "    check, frame = video.read()\n",
    "    \n",
    "#     convrt to gray\n",
    "    gray = cv2.cvtColor(frame,cv2.COLOR_BGR2GRAY)\n",
    "    \n",
    "#    detect car co-ordinates \n",
    "    cars = car_cascade.detectMultiScale(gray,1.1,1)\n",
    "    \n",
    "    #draw circle\n",
    "    for x,y,w,h in cars:\n",
    "        img = cv2.rectangle(frame,(x,y),(x+w,y+h),(0,0,255),2)\n",
    "        \n",
    "        \n",
    "    cv2.imshow('a',img)\n",
    "    key = cv2.waitKey(1)\n",
    "    if key == ord('q'):\n",
    "        break\n",
    "        \n",
    "video.release()\n",
    "cv2.destroyAllWindows()"
   ]
  },
  {
   "cell_type": "code",
   "execution_count": null,
   "metadata": {},
   "outputs": [],
   "source": []
  }
 ],
 "metadata": {
  "kernelspec": {
   "display_name": "Python 3",
   "language": "python",
   "name": "python3"
  },
  "language_info": {
   "codemirror_mode": {
    "name": "ipython",
    "version": 3
   },
   "file_extension": ".py",
   "mimetype": "text/x-python",
   "name": "python",
   "nbconvert_exporter": "python",
   "pygments_lexer": "ipython3",
   "version": "3.7.4"
  }
 },
 "nbformat": 4,
 "nbformat_minor": 2
}
