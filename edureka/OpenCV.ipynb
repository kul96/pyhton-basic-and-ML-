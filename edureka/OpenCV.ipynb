{
 "cells": [
  {
   "cell_type": "markdown",
   "metadata": {},
   "source": [
    "## OpenCV tutorial \n",
    "* openCV is a library of python desinged to solve computer vision problems.\n",
    "* it was first devloped in 1993 by intel\n",
    "* An openCV python is nothing but it is wrapper of original opencv c++"
   ]
  },
  {
   "cell_type": "code",
   "execution_count": 2,
   "metadata": {},
   "outputs": [],
   "source": [
    "import cv2"
   ]
  },
  {
   "cell_type": "markdown",
   "metadata": {},
   "source": [
    "### Basic operation"
   ]
  },
  {
   "cell_type": "code",
   "execution_count": 3,
   "metadata": {},
   "outputs": [],
   "source": [
    "##  read the image\n",
    "img1 = cv2.imread('a.jpg',1) # 1 for color\n",
    "img2 = cv2.imread('a.jpg',0) # 0 for gray scale or balck & white"
   ]
  },
  {
   "cell_type": "code",
   "execution_count": 4,
   "metadata": {
    "scrolled": true
   },
   "outputs": [
    {
     "name": "stdout",
     "output_type": "stream",
     "text": [
      "<built-in method astype of numpy.ndarray object at 0x000001D247272530>\n",
      "uint8\n",
      "(392, 640, 3)\n",
      "752640\n",
      "\n",
      "<built-in method astype of numpy.ndarray object at 0x000001D247272E40>\n",
      "uint8\n",
      "(392, 640)\n",
      "250880\n"
     ]
    }
   ],
   "source": [
    "print(img1.astype)\n",
    "print(img1.dtype)\n",
    "print(img1.shape) # extra 3 for RGB\n",
    "print(img1.size)\n",
    "print()\n",
    "# gray img\n",
    "print(img2.astype)\n",
    "print(img2.dtype)\n",
    "print(img2.shape)\n",
    "print(img2.size)\n"
   ]
  },
  {
   "cell_type": "code",
   "execution_count": 12,
   "metadata": {},
   "outputs": [],
   "source": [
    "# display image \n",
    "cv2.imshow(\"window_1\",img1) \n",
    "# it take two parameter \n",
    "#    1. for name of the window\n",
    "#    2. for the name of image\n",
    "\n",
    "##### waitkey() and destroyAllwindows() are neccaery function otherwise window goes crush \n",
    "\n",
    "# cv2.waitKey(0) # wait until a user presses a key\n",
    "cv2.waitKey(2000) # wait for 2000 milliseconds\n",
    "cv2.destroyAllWindows() # close window based on waitforkey parameter"
   ]
  },
  {
   "cell_type": "code",
   "execution_count": 18,
   "metadata": {},
   "outputs": [],
   "source": [
    "## resize image using cv2.resize() function\n",
    "resize_img = cv2.resize(img1,(500,500))\n",
    "resize_img = cv2.resize(img1, (int(img1.shape[1]/2), int(img1.shape[0]/2)))\n",
    "cv2.imshow(\"before\",img1) \n",
    "cv2.imshow(\"afte\",resize_img)\n",
    "\n",
    "cv2.waitKey(0)\n",
    "cv2.destroyAllWindows()"
   ]
  },
  {
   "cell_type": "markdown",
   "metadata": {},
   "source": [
    "## Face Detection \n",
    "\n",
    "step 1. Create a cascade classifier. It will contain the features of the face\n",
    "\n",
    "step 2. OpenCV will read the image and the features file <br>\n",
    "        Search for the row and column values of the face\n",
    "        \n",
    "step 3. Display the img with the reactangular face box        "
   ]
  },
  {
   "cell_type": "code",
   "execution_count": null,
   "metadata": {},
   "outputs": [],
   "source": [
    "# create a CascadeClassifier object\n",
    "face_cascade = cv2.CascadeClassifier(\"\")\n",
    " # parameter = path of the xml file which contains the face feature\n",
    "    "
   ]
  }
 ],
 "metadata": {
  "kernelspec": {
   "display_name": "Python 3",
   "language": "python",
   "name": "python3"
  },
  "language_info": {
   "codemirror_mode": {
    "name": "ipython",
    "version": 3
   },
   "file_extension": ".py",
   "mimetype": "text/x-python",
   "name": "python",
   "nbconvert_exporter": "python",
   "pygments_lexer": "ipython3",
   "version": "3.7.4"
  }
 },
 "nbformat": 4,
 "nbformat_minor": 2
}
