{
 "cells": [
  {
   "cell_type": "markdown",
   "metadata": {},
   "source": [
    "## MatplotLib Tutorial\n",
    "Matplotlib is a plotting library for the python. \n",
    "pro:\n",
    " * Generally easy to get started \n",
    " * support for custom labels and texts\n",
    " * high-quality output in many formats"
   ]
  },
  {
   "cell_type": "code",
   "execution_count": 8,
   "metadata": {},
   "outputs": [],
   "source": [
    "import matplotlib.pyplot as plt\n",
    "\n",
    "%matplotlib inline\n",
    "\n",
    "# this line is usefull when we don't use plt.show() line \n",
    "# that time this line show "
   ]
  },
  {
   "cell_type": "code",
   "execution_count": 9,
   "metadata": {},
   "outputs": [],
   "source": [
    "import numpy as np"
   ]
  },
  {
   "cell_type": "code",
   "execution_count": 10,
   "metadata": {},
   "outputs": [],
   "source": [
    "## simple example\n",
    "# take x-axis and y-axis as array \n",
    "x = np.arange(0,10)\n",
    "y = np.arange(11,21)"
   ]
  },
  {
   "cell_type": "code",
   "execution_count": 11,
   "metadata": {},
   "outputs": [
    {
     "data": {
      "text/plain": [
       "array([0, 1, 2, 3, 4, 5, 6, 7, 8, 9])"
      ]
     },
     "execution_count": 11,
     "metadata": {},
     "output_type": "execute_result"
    }
   ],
   "source": [
    "x"
   ]
  },
  {
   "cell_type": "code",
   "execution_count": 12,
   "metadata": {},
   "outputs": [
    {
     "data": {
      "text/plain": [
       "array([11, 12, 13, 14, 15, 16, 17, 18, 19, 20])"
      ]
     },
     "execution_count": 12,
     "metadata": {},
     "output_type": "execute_result"
    }
   ],
   "source": [
    "y"
   ]
  },
  {
   "cell_type": "markdown",
   "metadata": {},
   "source": [
    "## Type of graph\n",
    "#### 1. scatter  \n",
    "> plt.scatter()\n",
    "#### 2. plot      \n",
    "> plt.plot() and plt.subplot()\n",
    "#### 3. bar      \n",
    "> plt.bar()\n",
    "#### 4. histogram \n",
    "> plt.hist()\n",
    "#### 5. Box plot    \n",
    "> plt.boxplot()\n",
    "#### 6. pi chart   \n",
    "> plt.pie()"
   ]
  },
  {
   "cell_type": "code",
   "execution_count": 13,
   "metadata": {},
   "outputs": [
    {
     "data": {
      "image/png": "[encoded data removed]",
      "text/plain": [
       "<Figure size 432x288 with 1 Axes>"
      ]
     },
     "metadata": {
      "needs_background": "light"
     },
     "output_type": "display_data"
    }
   ],
   "source": [
    "# 1. plt scatter  \n",
    "# use scatter graph \n",
    "\n",
    "#plt.scatter(x,y)\n",
    "#plt.scatter(x,y,s=1,c='r') # s=pixel ,c=color\n",
    "plt.scatter(x,y,s=50,c='g') \n",
    "plt.xlabel('X axis')\n",
    "plt.ylabel(\"Y axis\")\n",
    "plt.title(\"first matplot\")\n",
    "# no need to write plt.show()\n",
    "# save image\n",
    "plt.savefig('matplotlib_img.jpg')"
   ]
  },
  {
   "cell_type": "code",
   "execution_count": 14,
   "metadata": {},
   "outputs": [
    {
     "data": {
      "text/plain": [
       "Text(0.5, 1.0, 'use plot')"
      ]
     },
     "execution_count": 14,
     "metadata": {},
     "output_type": "execute_result"
    },
    {
     "data": {
      "image/png": "[encoded data removed]",
      "text/plain": [
       "<Figure size 432x288 with 1 Axes>"
      ]
     },
     "metadata": {
      "needs_background": "light"
     },
     "output_type": "display_data"
    }
   ],
   "source": [
    "# 2. plot\n",
    "plt.plot(x,y)\n",
    "# plt.plot(x,y,'r+')\n",
    "# plt.plot(x,y,'mv')\n",
    "# plt.plot(x,y,'r>')\n",
    "# plt.plot(x,y,'r1')\n",
    "# plt.plot(x,y,'rs')\n",
    "# plt.plot(x,y,'r*')\n",
    "# plt.plot(x,y,'rp')\n",
    "# plt.plot(x,y,'r|')\n",
    "#plt.plot(x,y,'r_:') # 'r'=red color, '_' =marker , ':'=dotted line  \n",
    "\n",
    "plt.xlabel('x axis')\n",
    "plt.ylabel('y axis')\n",
    "plt.title('use plot')"
   ]
  },
  {
   "cell_type": "code",
   "execution_count": 15,
   "metadata": {},
   "outputs": [],
   "source": [
    "# **Markers**\n",
    "\n",
    "# =============    ===============================\n",
    "# character        description\n",
    "# =============    ===============================\n",
    "# ``'.'``          point marker\n",
    "# ``','``          pixel marker\n",
    "# ``'o'``          circle marker\n",
    "# ``'v'``          triangle_down marker\n",
    "# ``'^'``          triangle_up marker\n",
    "# ``'<'``          triangle_left marker\n",
    "# ``'>'``          triangle_right marker\n",
    "# ``'1'``          tri_down marker\n",
    "# ``'2'``          tri_up marker\n",
    "# ``'3'``          tri_left marker\n",
    "# ``'4'``          tri_right marker\n",
    "# ``'s'``          square marker\n",
    "# ``'p'``          pentagon marker\n",
    "# ``'*'``          star marker\n",
    "# ``'h'``          hexagon1 marker\n",
    "# ``'H'``          hexagon2 marker\n",
    "# ``'+'``          plus marker\n",
    "# ``'x'``          x marker\n",
    "# ``'D'``          diamond marker\n",
    "# ``'d'``          thin_diamond marker\n",
    "# ``'|'``          vline marker\n",
    "# ``'_'``          hline marker\n",
    "# =============    ===============================\n",
    "\n",
    "# **Line Styles**\n",
    "\n",
    "# =============    ===============================\n",
    "# character        description\n",
    "# =============    ===============================\n",
    "# ``'-'``          solid line style\n",
    "# ``'--'``         dashed line style\n",
    "# ``'-.'``         dash-dot line style\n",
    "# ``':'``          dotted line style\n",
    "# =============    ===============================\n",
    "\n",
    "# Example format strings::\n",
    "\n",
    "#     'b'    # blue markers with default shape\n",
    "#     'or'   # red circles\n",
    "#     '-g'   # green solid line\n",
    "#     '--'   # dashed line with default color\n",
    "#     '^k:'  # black triangle_up markers connected by a dotted line\n",
    "\n",
    "# **Colors**\n",
    "\n",
    "# The supported color abbreviations are the single letter codes\n",
    "\n",
    "# =============    ===============================\n",
    "# character        color\n",
    "# =============    ===============================\n",
    "# ``'b'``          blue\n",
    "# ``'g'``          green\n",
    "# ``'r'``          red\n",
    "# ``'c'``          cyan\n",
    "# ``'m'``          magenta\n",
    "# ``'y'``          yellow\n",
    "# ``'k'``          black\n",
    "# ``'w'``          white\n",
    "# =============    ===============================\n",
    "# "
   ]
  },
  {
   "cell_type": "markdown",
   "metadata": {},
   "source": [
    "#### creating subplot"
   ]
  },
  {
   "cell_type": "code",
   "execution_count": 20,
   "metadata": {},
   "outputs": [
    {
     "name": "stdout",
     "output_type": "stream",
     "text": [
      "[ 0  1  4  9 16 25 36 49 64 81]\n"
     ]
    },
    {
     "data": {
      "text/plain": [
       "[<matplotlib.lines.Line2D at 0x1f01d92d948>]"
      ]
     },
     "execution_count": 20,
     "metadata": {},
     "output_type": "execute_result"
    },
    {
     "data": {
      "image/png": "[encoded data removed]",
      "text/plain": [
       "<Figure size 432x288 with 4 Axes>"
      ]
     },
     "metadata": {
      "needs_background": "light"
     },
     "output_type": "display_data"
    }
   ],
   "source": [
    "a=x*x\n",
    "print(a)\n",
    "plt.subplot(2,2,1) # row,col,index\n",
    "plt.plot(a,'b--')\n",
    "plt.subplot(2,2,2)\n",
    "plt.plot(a,'g*--')\n",
    "plt.subplot(2,2,3)\n",
    "plt.plot(a,'r_:')\n",
    "\n",
    "plt.subplot(2,2,4) # two graph added\n",
    "plt.plot(a,'mo:')\n",
    "plt.plot(x,'--')"
   ]
  },
  {
   "cell_type": "code",
   "execution_count": 81,
   "metadata": {},
   "outputs": [
    {
     "data": {
      "text/plain": [
       "3.141592653589793"
      ]
     },
     "execution_count": 81,
     "metadata": {},
     "output_type": "execute_result"
    }
   ],
   "source": [
    "np.pi"
   ]
  },
  {
   "cell_type": "code",
   "execution_count": 93,
   "metadata": {},
   "outputs": [
    {
     "data": {
      "text/plain": [
       "[<matplotlib.lines.Line2D at 0x1c5c1428588>]"
      ]
     },
     "execution_count": 93,
     "metadata": {},
     "output_type": "execute_result"
    },
    {
     "data": {
      "image/png": "[encoded data removed]",
      "text/plain": [
       "<Figure size 432x288 with 1 Axes>"
      ]
     },
     "metadata": {
      "needs_background": "light"
     },
     "output_type": "display_data"
    }
   ],
   "source": [
    "# sine curve\n",
    "x = np.arange(0,2*np.pi,0.1) # take 0 to 2pi (0* to 360*)\n",
    "y = np.sin(x)\n",
    "plt.plot(x,y,'r--')"
   ]
  },
  {
   "cell_type": "code",
   "execution_count": 102,
   "metadata": {},
   "outputs": [
    {
     "data": {
      "text/plain": [
       "[<matplotlib.lines.Line2D at 0x1c5c6c40c88>]"
      ]
     },
     "execution_count": 102,
     "metadata": {},
     "output_type": "execute_result"
    },
    {
     "data": {
      "image/png": "[encoded data removed]",
      "text/plain": [
       "<Figure size 432x288 with 2 Axes>"
      ]
     },
     "metadata": {
      "needs_background": "light"
     },
     "output_type": "display_data"
    }
   ],
   "source": [
    "# subplot\n",
    "x = np.arange(0,5*np.pi,0.1) # take 0 to 2pi (0* to 360*)\n",
    " \n",
    "# index 1\n",
    "plt.subplot(2,1,1)\n",
    "y = np.sin(x)\n",
    "plt.plot(x,y,'r--')\n",
    "\n",
    "# index  2\n",
    "plt.subplot(2,1,2)\n",
    "y = np.cos(x)\n",
    "plt.plot(x,y,'m--')\n"
   ]
  },
  {
   "cell_type": "code",
   "execution_count": 107,
   "metadata": {},
   "outputs": [
    {
     "data": {
      "text/plain": [
       "Text(0, 0.5, 'y axis')"
      ]
     },
     "execution_count": 107,
     "metadata": {},
     "output_type": "execute_result"
    },
    {
     "data": {
      "image/png": "[encoded data removed]",
      "text/plain": [
       "<Figure size 432x288 with 1 Axes>"
      ]
     },
     "metadata": {
      "needs_background": "light"
     },
     "output_type": "display_data"
    }
   ],
   "source": [
    "# 3. bar \n",
    "x1 = np.random.randint(0,15,4)\n",
    "y1 = np.random.randint(0,15,4)\n",
    "\n",
    "x2 = np.random.randint(0,15,4)\n",
    "y2 = np.random.randint(0,15,4)\n",
    "\n",
    "plt.bar(x1,y1) # y1 is height of bar\n",
    "plt.bar(x2,y2,color='r')\n",
    "plt.title(\"bar \")\n",
    "plt.xlabel(\"x axis\")\n",
    "plt.ylabel(\"y axis\")"
   ]
  },
  {
   "cell_type": "code",
   "execution_count": 114,
   "metadata": {},
   "outputs": [
    {
     "name": "stdout",
     "output_type": "stream",
     "text": [
      "[ 6  8  3 13  7  9  5  5 14  7]\n"
     ]
    },
    {
     "data": {
      "text/plain": [
       "Text(0, 0.5, 'frequency of x ')"
      ]
     },
     "execution_count": 114,
     "metadata": {},
     "output_type": "execute_result"
    },
    {
     "data": {
      "image/png": "[encoded data removed]",
      "text/plain": [
       "<Figure size 432x288 with 1 Axes>"
      ]
     },
     "metadata": {
      "needs_background": "light"
     },
     "output_type": "display_data"
    }
   ],
   "source": [
    "# 4. Histrogram\n",
    "x = np.random.randint(0,15,10)\n",
    "print(x)\n",
    "plt.hist(x) # y axis represent fequency of x \n",
    "plt.xlabel(\"x values\")\n",
    "plt.ylabel(\"frequency of x \")"
   ]
  },
  {
   "cell_type": "markdown",
   "metadata": {},
   "source": [
    "### Box plot using MatplotLib"
   ]
  },
  {
   "cell_type": "code",
   "execution_count": 119,
   "metadata": {},
   "outputs": [
    {
     "name": "stdout",
     "output_type": "stream",
     "text": [
      "[ 6  8  3 13  7  9  5  5 14  7]\n",
      "7.7\n"
     ]
    },
    {
     "data": {
      "text/plain": [
       "{'whiskers': [<matplotlib.lines.Line2D at 0x1c5c766f188>,\n",
       "  <matplotlib.lines.Line2D at 0x1c5c766fd48>],\n",
       " 'caps': [<matplotlib.lines.Line2D at 0x1c5c766eb08>,\n",
       "  <matplotlib.lines.Line2D at 0x1c5c766ce48>],\n",
       " 'boxes': [<matplotlib.lines.Line2D at 0x1c5c7671c08>],\n",
       " 'medians': [<matplotlib.lines.Line2D at 0x1c5c766a048>],\n",
       " 'fliers': [<matplotlib.lines.Line2D at 0x1c5c766a548>],\n",
       " 'means': []}"
      ]
     },
     "execution_count": 119,
     "metadata": {},
     "output_type": "execute_result"
    },
    {
     "data": {
      "image/png": "[encoded data removed]",
      "text/plain": [
       "<Figure size 432x288 with 1 Axes>"
      ]
     },
     "metadata": {
      "needs_background": "light"
     },
     "output_type": "display_data"
    }
   ],
   "source": [
    "print(x)\n",
    "print(x.sum()/10)\n",
    "plt.boxplot(x)"
   ]
  },
  {
   "cell_type": "code",
   "execution_count": 139,
   "metadata": {},
   "outputs": [
    {
     "data": {
      "text/plain": [
       "{'whiskers': [<matplotlib.lines.Line2D at 0x1c5c8f75d08>,\n",
       "  <matplotlib.lines.Line2D at 0x1c5c8f7a688>,\n",
       "  <matplotlib.lines.Line2D at 0x1c5c8f88308>,\n",
       "  <matplotlib.lines.Line2D at 0x1c5c8f83d48>,\n",
       "  <matplotlib.lines.Line2D at 0x1c5c8f98848>,\n",
       "  <matplotlib.lines.Line2D at 0x1c5c8f98248>],\n",
       " 'caps': [<matplotlib.lines.Line2D at 0x1c5c8f7ae48>,\n",
       "  <matplotlib.lines.Line2D at 0x1c5c8f7af48>,\n",
       "  <matplotlib.lines.Line2D at 0x1c5c8f88c88>,\n",
       "  <matplotlib.lines.Line2D at 0x1c5c8f833c8>,\n",
       "  <matplotlib.lines.Line2D at 0x1c5c8f9ea88>,\n",
       "  <matplotlib.lines.Line2D at 0x1c5c8f9ea08>],\n",
       " 'boxes': [<matplotlib.patches.PathPatch at 0x1c5c8f75708>,\n",
       "  <matplotlib.patches.PathPatch at 0x1c5c8f83508>,\n",
       "  <matplotlib.patches.PathPatch at 0x1c5c8f93a48>],\n",
       " 'medians': [<matplotlib.lines.Line2D at 0x1c5c8f7fdc8>,\n",
       "  <matplotlib.lines.Line2D at 0x1c5c8f8ec08>,\n",
       "  <matplotlib.lines.Line2D at 0x1c5c8fa2bc8>],\n",
       " 'fliers': [<matplotlib.lines.Line2D at 0x1c5c8f7fec8>,\n",
       "  <matplotlib.lines.Line2D at 0x1c5c8f93ac8>,\n",
       "  <matplotlib.lines.Line2D at 0x1c5c8fa2cc8>],\n",
       " 'means': []}"
      ]
     },
     "execution_count": 139,
     "metadata": {},
     "output_type": "execute_result"
    },
    {
     "data": {
      "image/png": "[encoded data removed]",
      "text/plain": [
       "<Figure size 432x288 with 1 Axes>"
      ]
     },
     "metadata": {
      "needs_background": "light"
     },
     "output_type": "display_data"
    }
   ],
   "source": [
    "data = [np.random.normal(0,std,100) for std in range(1,4)]\n",
    "plt.boxplot(data,patch_artist=True,vert=\"True\") #vert for shape in which dire"
   ]
  },
  {
   "cell_type": "code",
   "execution_count": 128,
   "metadata": {},
   "outputs": [],
   "source": [
    "# 6. PI chart"
   ]
  },
  {
   "cell_type": "code",
   "execution_count": 6,
   "metadata": {},
   "outputs": [
    {
     "data": {
      "text/plain": [
       "(-1.1078110644837993,\n",
       " 1.1703700141841387,\n",
       " -1.1139288078773875,\n",
       " 1.18833027430788)"
      ]
     },
     "execution_count": 6,
     "metadata": {},
     "output_type": "execute_result"
    },
    {
     "data": {
      "image/png": "[encoded data removed]",
      "text/plain": [
       "<Figure size 432x288 with 1 Axes>"
      ]
     },
     "metadata": {},
     "output_type": "display_data"
    }
   ],
   "source": [
    "# data to plot\n",
    "label = 'python','c','c++','java'\n",
    "size = [215,130,245,215]\n",
    "color = ['gold','yellowgreen','lightcoral','lightskyblue']\n",
    "explod = (0.1,0,0,0) # explore first slide\n",
    "\n",
    "#plot\n",
    "plt.pie(size,explode=explod,colors=color,labels=label,shadow=True,autopct='%1.1f%%')\n",
    "plt.axis('equal') \n",
    " # autopct = show percentage inner side, "
   ]
  },
  {
   "cell_type": "code",
   "execution_count": null,
   "metadata": {},
   "outputs": [],
   "source": []
  }
 ],
 "metadata": {
  "kernelspec": {
   "display_name": "Python 3",
   "language": "python",
   "name": "python3"
  },
  "language_info": {
   "codemirror_mode": {
    "name": "ipython",
    "version": 3
   },
   "file_extension": ".py",
   "mimetype": "text/x-python",
   "name": "python",
   "nbconvert_exporter": "python",
   "pygments_lexer": "ipython3",
   "version": "3.7.4"
  }
 },
 "nbformat": 4,
 "nbformat_minor": 2
}
