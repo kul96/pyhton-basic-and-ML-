{
 "cells": [
  {
   "cell_type": "code",
   "execution_count": 1,
   "metadata": {},
   "outputs": [],
   "source": [
    "import re"
   ]
  },
  {
   "cell_type": "code",
   "execution_count": 15,
   "metadata": {},
   "outputs": [],
   "source": [
    "text = \"my kuldeepsutar96@gmail.com name is kuldeep and email kuldeepsutar96@gmail.com\"\n",
    "pattern = re.compile(\"kuldeep\")"
   ]
  },
  {
   "cell_type": "code",
   "execution_count": 3,
   "metadata": {},
   "outputs": [],
   "source": [
    "result = pattern.search(text)\n",
    "result"
   ]
  },
  {
   "cell_type": "code",
   "execution_count": 16,
   "metadata": {},
   "outputs": [
    {
     "data": {
      "text/plain": [
       "<re.Match object; span=(3, 24), match='kuldeepsutar96@gmail.'>"
      ]
     },
     "execution_count": 16,
     "metadata": {},
     "output_type": "execute_result"
    }
   ],
   "source": [
    "pattern = re.compile(\"[ae]\")\n",
    "pattern.search(text) # [] for find signle charater \n",
    "#  only first match \n",
    "#  if first charater find then do not go for next charater\n",
    "\n",
    "# we can also use range [a-b]\n",
    "pattern  = re.compile(\"[a-zA-Z0-9]\")\n",
    "pattern  = re.compile(\"[a-zA-Z]+\") \n",
    "pattern.search(text) ## + indicate all value access that occure first \n",
    "# after 'my' space occure but space not pattern so it take only first 'my'\n",
    "\n",
    "# regex for find email\n",
    "pattern  = re.compile(\"[a-zA-Z0-9]+@[a-zA-Z0-9]+.\")\n",
    "pattern.search(text)"
   ]
  },
  {
   "cell_type": "code",
   "execution_count": 20,
   "metadata": {},
   "outputs": [
    {
     "data": {
      "text/plain": [
       "['kuldeepsutar96@gmail.com', 'kuldeepsutar96@gmail.com']"
      ]
     },
     "execution_count": 20,
     "metadata": {},
     "output_type": "execute_result"
    }
   ],
   "source": [
    "pattern  = re.compile(\"[a-zA-Z0-9]+\\@[a-zA-Z0-9]+\\.[a-zA-Z]+\")\n",
    "pattern.findall(text)"
   ]
  },
  {
   "cell_type": "code",
   "execution_count": null,
   "metadata": {},
   "outputs": [],
   "source": []
  }
 ],
 "metadata": {
  "kernelspec": {
   "display_name": "Python 3",
   "language": "python",
   "name": "python3"
  },
  "language_info": {
   "codemirror_mode": {
    "name": "ipython",
    "version": 3
   },
   "file_extension": ".py",
   "mimetype": "text/x-python",
   "name": "python",
   "nbconvert_exporter": "python",
   "pygments_lexer": "ipython3",
   "version": "3.7.4"
  }
 },
 "nbformat": 4,
 "nbformat_minor": 2
}
