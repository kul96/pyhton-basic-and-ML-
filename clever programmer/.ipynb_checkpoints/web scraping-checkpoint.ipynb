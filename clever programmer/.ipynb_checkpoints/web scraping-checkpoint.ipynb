{
 "cells": [
  {
   "cell_type": "code",
   "execution_count": 2,
   "metadata": {},
   "outputs": [],
   "source": [
    "from bs4 import BeautifulSoup\n",
    "import requests"
   ]
  },
  {
   "cell_type": "code",
   "execution_count": 3,
   "metadata": {},
   "outputs": [],
   "source": [
    "r = requests.get('https://forecast.weather.gov/MapClick.php?lat=39.76691000000005&lon=-86.14995999999996#.XmYLLKgvNPY')"
   ]
  },
  {
   "cell_type": "code",
   "execution_count": 4,
   "metadata": {},
   "outputs": [],
   "source": [
    "soup = BeautifulSoup(r.text,'html.parser')"
   ]
  },
  {
   "cell_type": "code",
   "execution_count": 46,
   "metadata": {},
   "outputs": [
    {
     "data": {
      "text/plain": [
       "<li class=\"forecast-tombstone\">\n",
       "<div class=\"tombstone-container\">\n",
       "<p class=\"period-name\">Today<br/><br/></p>\n",
       "<p><img alt=\"Today: Mostly cloudy, with a high near 62. South southwest wind 10 to 18 mph, with gusts as high as 32 mph. \" class=\"forecast-icon\" src=\"newimages/medium/bkn.png\" title=\"Today: Mostly cloudy, with a high near 62. South southwest wind 10 to 18 mph, with gusts as high as 32 mph. \"/></p><p class=\"short-desc\">Mostly Cloudy</p><p class=\"temp temp-high\">High: 62 °F</p></div></li>"
      ]
     },
     "execution_count": 46,
     "metadata": {},
     "output_type": "execute_result"
    }
   ],
   "source": [
    "result = soup.find_all('li',attrs = {'class':'forecast-tombstone'})\n",
    "result[0]"
   ]
  },
  {
   "cell_type": "code",
   "execution_count": 63,
   "metadata": {},
   "outputs": [],
   "source": [
    "final = []\n",
    "for i in result:\n",
    "    temp = i.find('div',attrs={'class':'tombstone-container'}).find('p',attrs={'class':'temp'}).text\n",
    "    day = i.find('div',attrs={'class':'tombstone-container'}).find('p',attrs={'class':'period-name'}).text\n",
    "    wether = i.find('div',attrs={'class':'tombstone-container'}).find('p',attrs={'class':'short-desc'}).text\n",
    "    \n",
    "    final.append((day,wether,temp))"
   ]
  },
  {
   "cell_type": "code",
   "execution_count": 67,
   "metadata": {},
   "outputs": [
    {
     "data": {
      "text/plain": [
       "('Tuesday', 'ChanceShowers', 'High: 55 °F⇓')"
      ]
     },
     "execution_count": 67,
     "metadata": {},
     "output_type": "execute_result"
    }
   ],
   "source": [
    "final[2]"
   ]
  },
  {
   "cell_type": "code",
   "execution_count": 65,
   "metadata": {},
   "outputs": [
    {
     "data": {
      "text/plain": [
       "[('Today', 'Mostly Cloudy', 'High: 62 °F'),\n",
       " ('Tonight', 'Showers', 'Low: 49 °F'),\n",
       " ('Tuesday', 'ChanceShowers', 'High: 55 °F⇓'),\n",
       " ('TuesdayNight', 'Mostly Cloudy', 'Low: 39 °F'),\n",
       " ('Wednesday', 'ChanceShowers', 'High: 55 °F'),\n",
       " ('WednesdayNight', 'Mostly Cloudy', 'Low: 42 °F'),\n",
       " ('Thursday', 'ChanceShowers', 'High: 62 °F'),\n",
       " ('ThursdayNight', 'ChanceShowers', 'Low: 44 °F'),\n",
       " ('Friday', 'Mostly Sunny', 'High: 53 °F')]"
      ]
     },
     "execution_count": 65,
     "metadata": {},
     "output_type": "execute_result"
    }
   ],
   "source": [
    "final"
   ]
  },
  {
   "cell_type": "code",
   "execution_count": 68,
   "metadata": {},
   "outputs": [],
   "source": [
    "import pandas as pd"
   ]
  },
  {
   "cell_type": "code",
   "execution_count": 69,
   "metadata": {},
   "outputs": [],
   "source": [
    "df = pd.DataFrame(final,columns=('days','wether','temp'))"
   ]
  },
  {
   "cell_type": "code",
   "execution_count": 72,
   "metadata": {},
   "outputs": [
    {
     "name": "stdout",
     "output_type": "stream",
     "text": [
      "             days         wether          temp\n",
      "0           Today  Mostly Cloudy   High: 62 °F\n",
      "1         Tonight        Showers    Low: 49 °F\n",
      "2         Tuesday  ChanceShowers  High: 55 °F⇓\n",
      "3    TuesdayNight  Mostly Cloudy    Low: 39 °F\n",
      "4       Wednesday  ChanceShowers   High: 55 °F\n",
      "5  WednesdayNight  Mostly Cloudy    Low: 42 °F\n",
      "6        Thursday  ChanceShowers   High: 62 °F\n",
      "7   ThursdayNight  ChanceShowers    Low: 44 °F\n",
      "8          Friday   Mostly Sunny   High: 53 °F\n"
     ]
    }
   ],
   "source": [
    "print(df)\n",
    "a=df.to_csv('known_city.csv',index=False)"
   ]
  }
 ],
 "metadata": {
  "kernelspec": {
   "display_name": "Python 3",
   "language": "python",
   "name": "python3"
  },
  "language_info": {
   "codemirror_mode": {
    "name": "ipython",
    "version": 3
   },
   "file_extension": ".py",
   "mimetype": "text/x-python",
   "name": "python",
   "nbconvert_exporter": "python",
   "pygments_lexer": "ipython3",
   "version": "3.7.4"
  }
 },
 "nbformat": 4,
 "nbformat_minor": 2
}
