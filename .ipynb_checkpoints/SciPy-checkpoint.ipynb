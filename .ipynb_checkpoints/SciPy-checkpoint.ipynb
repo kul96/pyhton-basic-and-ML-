{
 "cells": [
  {
   "cell_type": "markdown",
   "metadata": {},
   "source": [
    "> https://www.youtube.com/watch?v=WGJJIrtnfpk&t=656s\n",
    "\n",
    "* Scipy is a python library used to solve scientific and mathmatical problems\n",
    "* built on NumPy\n",
    "* allows manipulation and visualizing\n",
    "\n",
    "### NumPy  V/S SciPy\n",
    "* numpy and scipy used for mathematical and numerical analysis\n",
    "* numpy contains array data and basic operations\n",
    "* scipy consists of all the numerical code\n",
    "* scipy contains fully-featured versions of mathematical and scientific functions\n",
    "\n",
    "### sub-packages\n",
    "* cluster \n",
    "  * clustering algorithms\n",
    "* constants \n",
    "  * physical and mathematical constants\n",
    "* fftpack\n",
    "  * fast fourier transform routines\n",
    "* integrate\n",
    "  * integration and ordinary differential equation solvers\n",
    "* interpolate \n",
    "  * interpolationand smooothing splines\n",
    "* io \n",
    "  * input and output\n",
    "* linalg\n",
    "  * linear algebra\n",
    "* ndimage\n",
    "  * N-dimensional image processing\n",
    "* odr\n",
    "  * orthogonal distance regression\n",
    "* optimize \n",
    "  * optimization and root-finding routines\n",
    "* signal \n",
    "  * signal processing\n",
    "* sparse \n",
    "  * sparse matrices and associated routines\n",
    "* spatial \n",
    "  * spatial data structures and algorithms\n",
    "* special \n",
    "  * special functions\n",
    "  \n",
    "#### basic functions\n",
    "> help()\n",
    " * returns infromation about any function,keyword,class,etc\n",
    " \n",
    "> info()\n",
    " * returns information about any function,keyword,class etc..\n",
    " \n",
    "> source()\n",
    " * return the source code only for objects written in python"
   ]
  },
  {
   "cell_type": "code",
   "execution_count": 1,
   "metadata": {},
   "outputs": [],
   "source": [
    "from scipy import cluster"
   ]
  },
  {
   "cell_type": "code",
   "execution_count": 2,
   "metadata": {},
   "outputs": [
    {
     "name": "stdout",
     "output_type": "stream",
     "text": [
      "Help on package scipy.cluster in scipy:\n",
      "\n",
      "NAME\n",
      "    scipy.cluster\n",
      "\n",
      "DESCRIPTION\n",
      "    =========================================\n",
      "    Clustering package (:mod:`scipy.cluster`)\n",
      "    =========================================\n",
      "    \n",
      "    .. currentmodule:: scipy.cluster\n",
      "    \n",
      "    :mod:`scipy.cluster.vq`\n",
      "    \n",
      "    Clustering algorithms are useful in information theory, target detection,\n",
      "    communications, compression, and other areas.  The `vq` module only\n",
      "    supports vector quantization and the k-means algorithms.\n",
      "    \n",
      "    :mod:`scipy.cluster.hierarchy`\n",
      "    \n",
      "    The `hierarchy` module provides functions for hierarchical and\n",
      "    agglomerative clustering.  Its features include generating hierarchical\n",
      "    clusters from distance matrices,\n",
      "    calculating statistics on clusters, cutting linkages\n",
      "    to generate flat clusters, and visualizing clusters with dendrograms.\n",
      "\n",
      "PACKAGE CONTENTS\n",
      "    _hierarchy\n",
      "    _optimal_leaf_ordering\n",
      "    _vq\n",
      "    hierarchy\n",
      "    setup\n",
      "    tests (package)\n",
      "    vq\n",
      "\n",
      "DATA\n",
      "    __all__ = ['vq', 'hierarchy']\n",
      "\n",
      "FILE\n",
      "    c:\\users\\kulde\\anaconda3\\lib\\site-packages\\scipy\\cluster\\__init__.py\n",
      "\n",
      "\n"
     ]
    }
   ],
   "source": [
    "help(cluster)"
   ]
  },
  {
   "cell_type": "code",
   "execution_count": null,
   "metadata": {},
   "outputs": [],
   "source": [
    "help()"
   ]
  },
  {
   "cell_type": "code",
   "execution_count": 3,
   "metadata": {},
   "outputs": [
    {
     "name": "stdout",
     "output_type": "stream",
     "text": [
      "=========================================\n",
      "Clustering package (:mod:`scipy.cluster`)\n",
      "=========================================\n",
      "\n",
      ".. currentmodule:: scipy.cluster\n",
      "\n",
      ":mod:`scipy.cluster.vq`\n",
      "\n",
      "Clustering algorithms are useful in information theory, target detection,\n",
      "communications, compression, and other areas.  The `vq` module only\n",
      "supports vector quantization and the k-means algorithms.\n",
      "\n",
      ":mod:`scipy.cluster.hierarchy`\n",
      "\n",
      "The `hierarchy` module provides functions for hierarchical and\n",
      "agglomerative clustering.  Its features include generating hierarchical\n",
      "clusters from distance matrices,\n",
      "calculating statistics on clusters, cutting linkages\n",
      "to generate flat clusters, and visualizing clusters with dendrograms.\n"
     ]
    }
   ],
   "source": [
    "import scipy\n",
    "scipy.info(cluster)"
   ]
  },
  {
   "cell_type": "code",
   "execution_count": null,
   "metadata": {},
   "outputs": [],
   "source": []
  },
  {
   "cell_type": "code",
   "execution_count": null,
   "metadata": {},
   "outputs": [],
   "source": []
  },
  {
   "cell_type": "markdown",
   "metadata": {},
   "source": []
  }
 ],
 "metadata": {
  "kernelspec": {
   "display_name": "Python 3",
   "language": "python",
   "name": "python3"
  },
  "language_info": {
   "codemirror_mode": {
    "name": "ipython",
    "version": 3
   },
   "file_extension": ".py",
   "mimetype": "text/x-python",
   "name": "python",
   "nbconvert_exporter": "python",
   "pygments_lexer": "ipython3",
   "version": "3.7.4"
  }
 },
 "nbformat": 4,
 "nbformat_minor": 2
}
